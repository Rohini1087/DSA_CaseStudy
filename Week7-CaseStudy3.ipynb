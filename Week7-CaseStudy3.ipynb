{
 "cells": [
  {
   "cell_type": "code",
   "execution_count": 2,
   "id": "de4ce028",
   "metadata": {},
   "outputs": [],
   "source": [
    "# importing libraries\n",
    "\n",
    "import numpy as np\n",
    "import pandas as pd\n",
    "import scipy.stats as stats\n"
   ]
  },
  {
   "cell_type": "code",
   "execution_count": 3,
   "id": "3c6edf9e",
   "metadata": {},
   "outputs": [
    {
     "data": {
      "text/html": [
       "<div>\n",
       "<style scoped>\n",
       "    .dataframe tbody tr th:only-of-type {\n",
       "        vertical-align: middle;\n",
       "    }\n",
       "\n",
       "    .dataframe tbody tr th {\n",
       "        vertical-align: top;\n",
       "    }\n",
       "\n",
       "    .dataframe thead th {\n",
       "        text-align: right;\n",
       "    }\n",
       "</style>\n",
       "<table border=\"1\" class=\"dataframe\">\n",
       "  <thead>\n",
       "    <tr style=\"text-align: right;\">\n",
       "      <th></th>\n",
       "      <th>Month</th>\n",
       "      <th>Region</th>\n",
       "      <th>Manager</th>\n",
       "      <th>Sales_before_digital_add(in $)</th>\n",
       "      <th>Sales_After_digital_add(in $)</th>\n",
       "    </tr>\n",
       "  </thead>\n",
       "  <tbody>\n",
       "    <tr>\n",
       "      <th>0</th>\n",
       "      <td>Month-1</td>\n",
       "      <td>Region - A</td>\n",
       "      <td>Manager - A</td>\n",
       "      <td>132921</td>\n",
       "      <td>270390</td>\n",
       "    </tr>\n",
       "    <tr>\n",
       "      <th>1</th>\n",
       "      <td>Month-2</td>\n",
       "      <td>Region - A</td>\n",
       "      <td>Manager - C</td>\n",
       "      <td>149559</td>\n",
       "      <td>223334</td>\n",
       "    </tr>\n",
       "    <tr>\n",
       "      <th>2</th>\n",
       "      <td>Month-3</td>\n",
       "      <td>Region - B</td>\n",
       "      <td>Manager - A</td>\n",
       "      <td>146278</td>\n",
       "      <td>244243</td>\n",
       "    </tr>\n",
       "    <tr>\n",
       "      <th>3</th>\n",
       "      <td>Month-4</td>\n",
       "      <td>Region - B</td>\n",
       "      <td>Manager - B</td>\n",
       "      <td>152167</td>\n",
       "      <td>231808</td>\n",
       "    </tr>\n",
       "    <tr>\n",
       "      <th>4</th>\n",
       "      <td>Month-5</td>\n",
       "      <td>Region - C</td>\n",
       "      <td>Manager - B</td>\n",
       "      <td>159525</td>\n",
       "      <td>258402</td>\n",
       "    </tr>\n",
       "  </tbody>\n",
       "</table>\n",
       "</div>"
      ],
      "text/plain": [
       "     Month      Region      Manager  Sales_before_digital_add(in $)  \\\n",
       "0  Month-1  Region - A  Manager - A                          132921   \n",
       "1  Month-2  Region - A  Manager - C                          149559   \n",
       "2  Month-3  Region - B  Manager - A                          146278   \n",
       "3  Month-4  Region - B  Manager - B                          152167   \n",
       "4  Month-5  Region - C  Manager - B                          159525   \n",
       "\n",
       "   Sales_After_digital_add(in $)  \n",
       "0                         270390  \n",
       "1                         223334  \n",
       "2                         244243  \n",
       "3                         231808  \n",
       "4                         258402  "
      ]
     },
     "execution_count": 3,
     "metadata": {},
     "output_type": "execute_result"
    }
   ],
   "source": [
    "# importing data file to python\n",
    "\n",
    "sales_data = pd.read_csv('Sales_add.csv')\n",
    "sales_data.head()"
   ]
  },
  {
   "cell_type": "code",
   "execution_count": 4,
   "id": "e63a47f2",
   "metadata": {},
   "outputs": [
    {
     "name": "stdout",
     "output_type": "stream",
     "text": [
      "<class 'pandas.core.frame.DataFrame'>\n",
      "RangeIndex: 22 entries, 0 to 21\n",
      "Data columns (total 5 columns):\n",
      " #   Column                          Non-Null Count  Dtype \n",
      "---  ------                          --------------  ----- \n",
      " 0   Month                           22 non-null     object\n",
      " 1   Region                          22 non-null     object\n",
      " 2   Manager                         22 non-null     object\n",
      " 3   Sales_before_digital_add(in $)  22 non-null     int64 \n",
      " 4   Sales_After_digital_add(in $)   22 non-null     int64 \n",
      "dtypes: int64(2), object(3)\n",
      "memory usage: 1008.0+ bytes\n"
     ]
    }
   ],
   "source": [
    "#To check whether the data is having  no null values in any columns\n",
    "sales_data.info()\n"
   ]
  },
  {
   "cell_type": "code",
   "execution_count": 1,
   "id": "1d90cc9c",
   "metadata": {},
   "outputs": [],
   "source": [
    "# no null data in any columns"
   ]
  },
  {
   "cell_type": "markdown",
   "id": "150a73e7",
   "metadata": {},
   "source": [
    "# The company wishes to clarify whether there is any increase in sales after\n",
    "stepping into digital marketing"
   ]
  },
  {
   "cell_type": "code",
   "execution_count": 18,
   "id": "f227d45f",
   "metadata": {},
   "outputs": [],
   "source": [
    "# Creating Hypothesis\n",
    "\n",
    "# H0: There is no increase in sales after stepping to digital marketing - μ1=μ2\n",
    "# H1: There is increase in sales after stepping to digital marketing - μ1>μ2"
   ]
  },
  {
   "cell_type": "code",
   "execution_count": 16,
   "id": "767be28e",
   "metadata": {},
   "outputs": [],
   "source": [
    "# Since we have to test the increase in sales with same sample ,we will use paired sample t test"
   ]
  },
  {
   "cell_type": "code",
   "execution_count": 4,
   "id": "aaa6bb91",
   "metadata": {},
   "outputs": [],
   "source": [
    "sales_before_add = sales_data['Sales_before_digital_add(in $)']\n",
    "sales_after_add = sales_data['Sales_After_digital_add(in $)']"
   ]
  },
  {
   "cell_type": "code",
   "execution_count": 25,
   "id": "54969190",
   "metadata": {},
   "outputs": [],
   "source": [
    "tvalue,pvalue = stats.ttest_rel(sales_before_add,sales_after_add)"
   ]
  },
  {
   "cell_type": "code",
   "execution_count": 26,
   "id": "ba2c9e68",
   "metadata": {},
   "outputs": [
    {
     "name": "stdout",
     "output_type": "stream",
     "text": [
      "tvalue=  -12.09070525287017 pvalue =  6.336667004575778e-11\n"
     ]
    }
   ],
   "source": [
    "print('tvalue= ',tvalue,'pvalue = ',pvalue)"
   ]
  },
  {
   "cell_type": "code",
   "execution_count": 27,
   "id": "43bfc0d2",
   "metadata": {},
   "outputs": [
    {
     "name": "stdout",
     "output_type": "stream",
     "text": [
      "Reject H0:There is no increase in sales after stepping to digital marketing\n"
     ]
    }
   ],
   "source": [
    "sig_level=0.05\n",
    "if(pvalue < sig_level):\n",
    "    print('Reject H0:There is no increase in sales after stepping to digital marketing')\n",
    "else:\n",
    "    print('Fail to reject H0 :There is no increase in sales after stepping to digital marketing')"
   ]
  },
  {
   "cell_type": "markdown",
   "id": "05946d86",
   "metadata": {},
   "source": [
    "$\\color{red}{\\text{The hypothesis testing shows that there is indication of increase in sales after stepping into digital marketing}}$"
   ]
  },
  {
   "cell_type": "markdown",
   "id": "c51aef8d",
   "metadata": {},
   "source": [
    "# The company needs to check whether there is any dependency between the features “Region” and “Manager”."
   ]
  },
  {
   "cell_type": "code",
   "execution_count": 35,
   "id": "c185addc",
   "metadata": {},
   "outputs": [
    {
     "data": {
      "text/html": [
       "<div>\n",
       "<style scoped>\n",
       "    .dataframe tbody tr th:only-of-type {\n",
       "        vertical-align: middle;\n",
       "    }\n",
       "\n",
       "    .dataframe tbody tr th {\n",
       "        vertical-align: top;\n",
       "    }\n",
       "\n",
       "    .dataframe thead th {\n",
       "        text-align: right;\n",
       "    }\n",
       "</style>\n",
       "<table border=\"1\" class=\"dataframe\">\n",
       "  <thead>\n",
       "    <tr style=\"text-align: right;\">\n",
       "      <th>Manager</th>\n",
       "      <th>Manager - A</th>\n",
       "      <th>Manager - B</th>\n",
       "      <th>Manager - C</th>\n",
       "    </tr>\n",
       "    <tr>\n",
       "      <th>Region</th>\n",
       "      <th></th>\n",
       "      <th></th>\n",
       "      <th></th>\n",
       "    </tr>\n",
       "  </thead>\n",
       "  <tbody>\n",
       "    <tr>\n",
       "      <th>Region - A</th>\n",
       "      <td>4</td>\n",
       "      <td>3</td>\n",
       "      <td>3</td>\n",
       "    </tr>\n",
       "    <tr>\n",
       "      <th>Region - B</th>\n",
       "      <td>4</td>\n",
       "      <td>1</td>\n",
       "      <td>2</td>\n",
       "    </tr>\n",
       "    <tr>\n",
       "      <th>Region - C</th>\n",
       "      <td>1</td>\n",
       "      <td>3</td>\n",
       "      <td>1</td>\n",
       "    </tr>\n",
       "  </tbody>\n",
       "</table>\n",
       "</div>"
      ],
      "text/plain": [
       "Manager     Manager - A  Manager - B  Manager - C\n",
       "Region                                           \n",
       "Region - A            4            3            3\n",
       "Region - B            4            1            2\n",
       "Region - C            1            3            1"
      ]
     },
     "execution_count": 35,
     "metadata": {},
     "output_type": "execute_result"
    }
   ],
   "source": [
    "data_group=sales_data.groupby('Region')['Manager'].value_counts().unstack()\n",
    "data_group"
   ]
  },
  {
   "cell_type": "code",
   "execution_count": 29,
   "id": "5748936a",
   "metadata": {},
   "outputs": [],
   "source": [
    "# grouping variables and factors into row and columns to do chi square test to check dependency\n",
    "# Hypothesis\n",
    "\n",
    "# H0:Region and Manager features are independent\n",
    "# H1:Region and Manager features are dependent"
   ]
  },
  {
   "cell_type": "code",
   "execution_count": 30,
   "id": "50d7e283",
   "metadata": {},
   "outputs": [
    {
     "data": {
      "text/html": [
       "<div>\n",
       "<style scoped>\n",
       "    .dataframe tbody tr th:only-of-type {\n",
       "        vertical-align: middle;\n",
       "    }\n",
       "\n",
       "    .dataframe tbody tr th {\n",
       "        vertical-align: top;\n",
       "    }\n",
       "\n",
       "    .dataframe thead th {\n",
       "        text-align: right;\n",
       "    }\n",
       "</style>\n",
       "<table border=\"1\" class=\"dataframe\">\n",
       "  <thead>\n",
       "    <tr style=\"text-align: right;\">\n",
       "      <th>Manager</th>\n",
       "      <th>Manager - A</th>\n",
       "      <th>Manager - B</th>\n",
       "      <th>Manager - C</th>\n",
       "    </tr>\n",
       "    <tr>\n",
       "      <th>Region</th>\n",
       "      <th></th>\n",
       "      <th></th>\n",
       "      <th></th>\n",
       "    </tr>\n",
       "  </thead>\n",
       "  <tbody>\n",
       "    <tr>\n",
       "      <th>Region - A</th>\n",
       "      <td>4</td>\n",
       "      <td>3</td>\n",
       "      <td>3</td>\n",
       "    </tr>\n",
       "    <tr>\n",
       "      <th>Region - B</th>\n",
       "      <td>4</td>\n",
       "      <td>1</td>\n",
       "      <td>2</td>\n",
       "    </tr>\n",
       "    <tr>\n",
       "      <th>Region - C</th>\n",
       "      <td>1</td>\n",
       "      <td>3</td>\n",
       "      <td>1</td>\n",
       "    </tr>\n",
       "  </tbody>\n",
       "</table>\n",
       "</div>"
      ],
      "text/plain": [
       "Manager     Manager - A  Manager - B  Manager - C\n",
       "Region                                           \n",
       "Region - A            4            3            3\n",
       "Region - B            4            1            2\n",
       "Region - C            1            3            1"
      ]
     },
     "execution_count": 30,
     "metadata": {},
     "output_type": "execute_result"
    }
   ],
   "source": [
    "#checking contingency table with crosstab function\n",
    "pd.crosstab(sales_data['Region'],sales_data['Manager'])"
   ]
  },
  {
   "cell_type": "code",
   "execution_count": 36,
   "id": "21a57434",
   "metadata": {},
   "outputs": [],
   "source": [
    "#perform the Chi-Square Test of Independence\n",
    "chivalue,pvalue,df,expvalues=stats.chi2_contingency(data_group)\n"
   ]
  },
  {
   "cell_type": "code",
   "execution_count": 37,
   "id": "dafc1757",
   "metadata": {},
   "outputs": [
    {
     "name": "stdout",
     "output_type": "stream",
     "text": [
      "Chi sqaure Test Statistic: 3.050566893424036\n",
      "Pvalue of test data; 0.5493991051158094\n",
      "Degrees of Freedom: 4\n",
      "expected observations of data: [[4.09090909 3.18181818 2.72727273]\n",
      " [2.86363636 2.22727273 1.90909091]\n",
      " [2.04545455 1.59090909 1.36363636]]\n"
     ]
    }
   ],
   "source": [
    "print('Chi sqaure Test Statistic:',chivalue)\n",
    "print('Pvalue of test data;',pvalue)\n",
    "print('Degrees of Freedom:',df)\n",
    "print('expected observations of data:',expvalues)"
   ]
  },
  {
   "cell_type": "code",
   "execution_count": 38,
   "id": "b38c9b9c",
   "metadata": {},
   "outputs": [
    {
     "name": "stdout",
     "output_type": "stream",
     "text": [
      "chicriteria = 9.487729036781154\n"
     ]
    }
   ],
   "source": [
    "# calculating chi square criteria value \n",
    "\n",
    "#significance level= 0.05 and \n",
    "#degrees of freedom =(3-1)*(3-1)=4 \n",
    "\n",
    "chicriteria=stats.chi2.ppf(1-0.05,4)\n",
    "print('chicriteria =',chicriteria)\n"
   ]
  },
  {
   "cell_type": "code",
   "execution_count": 39,
   "id": "a1343fdf",
   "metadata": {},
   "outputs": [
    {
     "name": "stdout",
     "output_type": "stream",
     "text": [
      "Reject H1:Region and Manager features are dependent\n"
     ]
    }
   ],
   "source": [
    "if(chivalue>chicriteria and pvalue<0.05):\n",
    "    print('Reject H0: Region and Manager features are independent')\n",
    "else:\n",
    "    print('Reject H1:Region and Manager features are dependent')"
   ]
  },
  {
   "cell_type": "markdown",
   "id": "0e0f764e",
   "metadata": {},
   "source": [
    "$\\color{red}{\\text{The Chi square test shows that the Features Region and Manager are independent}}$"
   ]
  },
  {
   "cell_type": "code",
   "execution_count": null,
   "id": "4d4b4bdf",
   "metadata": {},
   "outputs": [],
   "source": []
  },
  {
   "cell_type": "code",
   "execution_count": null,
   "id": "635a812c",
   "metadata": {},
   "outputs": [],
   "source": []
  }
 ],
 "metadata": {
  "kernelspec": {
   "display_name": "Python 3 (ipykernel)",
   "language": "python",
   "name": "python3"
  },
  "language_info": {
   "codemirror_mode": {
    "name": "ipython",
    "version": 3
   },
   "file_extension": ".py",
   "mimetype": "text/x-python",
   "name": "python",
   "nbconvert_exporter": "python",
   "pygments_lexer": "ipython3",
   "version": "3.9.7"
  }
 },
 "nbformat": 4,
 "nbformat_minor": 5
}
